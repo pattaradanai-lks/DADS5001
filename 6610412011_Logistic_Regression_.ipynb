{
  "cells": [
    {
      "cell_type": "markdown",
      "metadata": {
        "id": "view-in-github",
        "colab_type": "text"
      },
      "source": [
        "<a href=\"https://colab.research.google.com/github/pattaradanai-lks/DADS5001/blob/main/6610412011_Logistic_Regression_.ipynb\" target=\"_parent\"><img src=\"https://colab.research.google.com/assets/colab-badge.svg\" alt=\"Open In Colab\"/></a>"
      ]
    },
    {
      "cell_type": "code",
      "source": [
        "!pip install pandas\n",
        "!pip install numpy\n",
        "!pip install requests\n",
        "!pip install lxml\n",
        "!pip install yfinance"
      ],
      "metadata": {
        "colab": {
          "base_uri": "https://localhost:8080/"
        },
        "id": "Km4DwJbwoSvp",
        "outputId": "0c3d400c-0b71-4258-97bd-24a068484844"
      },
      "id": "Km4DwJbwoSvp",
      "execution_count": 24,
      "outputs": [
        {
          "output_type": "stream",
          "name": "stdout",
          "text": [
            "Requirement already satisfied: pandas in /usr/local/lib/python3.10/dist-packages (1.5.3)\n",
            "Requirement already satisfied: python-dateutil>=2.8.1 in /usr/local/lib/python3.10/dist-packages (from pandas) (2.8.2)\n",
            "Requirement already satisfied: pytz>=2020.1 in /usr/local/lib/python3.10/dist-packages (from pandas) (2023.4)\n",
            "Requirement already satisfied: numpy>=1.21.0 in /usr/local/lib/python3.10/dist-packages (from pandas) (1.25.2)\n",
            "Requirement already satisfied: six>=1.5 in /usr/local/lib/python3.10/dist-packages (from python-dateutil>=2.8.1->pandas) (1.16.0)\n",
            "Requirement already satisfied: numpy in /usr/local/lib/python3.10/dist-packages (1.25.2)\n",
            "Requirement already satisfied: requests in /usr/local/lib/python3.10/dist-packages (2.31.0)\n",
            "Requirement already satisfied: charset-normalizer<4,>=2 in /usr/local/lib/python3.10/dist-packages (from requests) (3.3.2)\n",
            "Requirement already satisfied: idna<4,>=2.5 in /usr/local/lib/python3.10/dist-packages (from requests) (3.6)\n",
            "Requirement already satisfied: urllib3<3,>=1.21.1 in /usr/local/lib/python3.10/dist-packages (from requests) (2.0.7)\n",
            "Requirement already satisfied: certifi>=2017.4.17 in /usr/local/lib/python3.10/dist-packages (from requests) (2024.2.2)\n",
            "Requirement already satisfied: lxml in /usr/local/lib/python3.10/dist-packages (4.9.4)\n",
            "Requirement already satisfied: yfinance in /usr/local/lib/python3.10/dist-packages (0.2.36)\n",
            "Requirement already satisfied: pandas>=1.3.0 in /usr/local/lib/python3.10/dist-packages (from yfinance) (1.5.3)\n",
            "Requirement already satisfied: numpy>=1.16.5 in /usr/local/lib/python3.10/dist-packages (from yfinance) (1.25.2)\n",
            "Requirement already satisfied: requests>=2.31 in /usr/local/lib/python3.10/dist-packages (from yfinance) (2.31.0)\n",
            "Requirement already satisfied: multitasking>=0.0.7 in /usr/local/lib/python3.10/dist-packages (from yfinance) (0.0.11)\n",
            "Requirement already satisfied: lxml>=4.9.1 in /usr/local/lib/python3.10/dist-packages (from yfinance) (4.9.4)\n",
            "Requirement already satisfied: appdirs>=1.4.4 in /usr/local/lib/python3.10/dist-packages (from yfinance) (1.4.4)\n",
            "Requirement already satisfied: pytz>=2022.5 in /usr/local/lib/python3.10/dist-packages (from yfinance) (2023.4)\n",
            "Requirement already satisfied: frozendict>=2.3.4 in /usr/local/lib/python3.10/dist-packages (from yfinance) (2.4.0)\n",
            "Requirement already satisfied: peewee>=3.16.2 in /usr/local/lib/python3.10/dist-packages (from yfinance) (3.17.1)\n",
            "Requirement already satisfied: beautifulsoup4>=4.11.1 in /usr/local/lib/python3.10/dist-packages (from yfinance) (4.12.3)\n",
            "Requirement already satisfied: html5lib>=1.1 in /usr/local/lib/python3.10/dist-packages (from yfinance) (1.1)\n",
            "Requirement already satisfied: soupsieve>1.2 in /usr/local/lib/python3.10/dist-packages (from beautifulsoup4>=4.11.1->yfinance) (2.5)\n",
            "Requirement already satisfied: six>=1.9 in /usr/local/lib/python3.10/dist-packages (from html5lib>=1.1->yfinance) (1.16.0)\n",
            "Requirement already satisfied: webencodings in /usr/local/lib/python3.10/dist-packages (from html5lib>=1.1->yfinance) (0.5.1)\n",
            "Requirement already satisfied: python-dateutil>=2.8.1 in /usr/local/lib/python3.10/dist-packages (from pandas>=1.3.0->yfinance) (2.8.2)\n",
            "Requirement already satisfied: charset-normalizer<4,>=2 in /usr/local/lib/python3.10/dist-packages (from requests>=2.31->yfinance) (3.3.2)\n",
            "Requirement already satisfied: idna<4,>=2.5 in /usr/local/lib/python3.10/dist-packages (from requests>=2.31->yfinance) (3.6)\n",
            "Requirement already satisfied: urllib3<3,>=1.21.1 in /usr/local/lib/python3.10/dist-packages (from requests>=2.31->yfinance) (2.0.7)\n",
            "Requirement already satisfied: certifi>=2017.4.17 in /usr/local/lib/python3.10/dist-packages (from requests>=2.31->yfinance) (2024.2.2)\n"
          ]
        }
      ]
    },
    {
      "cell_type": "code",
      "execution_count": 25,
      "id": "e6ffe6e5",
      "metadata": {
        "id": "e6ffe6e5"
      },
      "outputs": [],
      "source": [
        "import yfinance as yf\n",
        "\n",
        "tsm = yf.Ticker('TSM')\n",
        "ibm = yf.Ticker('IBM')\n",
        "interval = '1h'\n",
        "start = '2023-09-01'\n",
        "end = '2023-09-07'\n",
        "df = tsm.history(interval=interval, start=start, end=end)\n",
        "df2 = ibm.history(interval=interval, start=start, end=end)\n"
      ]
    },
    {
      "cell_type": "code",
      "execution_count": 26,
      "id": "f5277e76",
      "metadata": {
        "colab": {
          "base_uri": "https://localhost:8080/"
        },
        "id": "f5277e76",
        "outputId": "05276b95-8fab-4728-ad64-acfd1f8c39cc"
      },
      "outputs": [
        {
          "output_type": "stream",
          "name": "stderr",
          "text": [
            "[*********************100%%**********************]  1 of 1 completed\n",
            "[*********************100%%**********************]  1 of 1 completed\n"
          ]
        }
      ],
      "source": [
        "df = yf.download('TSM', start='2021-07-01', end='2023-12-10')\n",
        "df = df.dropna()\n",
        "df = df.iloc[:,:4]\n",
        "\n",
        "df2 = yf.download('IBM', start='2021-07-01', end='2023-12-10')\n",
        "df2 = df2.dropna()\n",
        "df2 = df2.iloc[:,:4]\n"
      ]
    },
    {
      "cell_type": "code",
      "source": [
        "url = 'https://anaconda.org/conda-forge/libta-lib/0.4.0/download/linux-64/libta-lib-0.4.0-h166bdaf_1.tar.bz2'\n",
        "!curl -L $url | tar xj -C /usr/lib/x86_64-linux-gnu/ lib --strip-components=1\n",
        "url = 'https://anaconda.org/conda-forge/ta-lib/0.4.19/download/linux-64/ta-lib-0.4.19-py310hde88566_4.tar.bz2'\n",
        "!curl -L $url | tar xj -C /usr/local/lib/python3.10/dist-packages/ lib/python3.10/site-packages/talib --strip-components=3\n",
        "import talib"
      ],
      "metadata": {
        "colab": {
          "base_uri": "https://localhost:8080/"
        },
        "id": "ZrvFH9dCn6jP",
        "outputId": "2d7881d5-ca0e-4b91-b4a5-00bbd1e6539f"
      },
      "id": "ZrvFH9dCn6jP",
      "execution_count": 27,
      "outputs": [
        {
          "output_type": "stream",
          "name": "stdout",
          "text": [
            "  % Total    % Received % Xferd  Average Speed   Time    Time     Time  Current\n",
            "                                 Dload  Upload   Total   Spent    Left  Speed\n",
            "100  4528    0  4528    0     0  12866      0 --:--:-- --:--:-- --:--:-- 12900\n",
            "100  517k  100  517k    0     0   517k      0 --:--:-- --:--:-- --:--:-- 2883k\n",
            "  % Total    % Received % Xferd  Average Speed   Time    Time     Time  Current\n",
            "                                 Dload  Upload   Total   Spent    Left  Speed\n",
            "100  4556    0  4556    0     0    981      0 --:--:--  0:00:04 --:--:--   981\n",
            "100  392k  100  392k    0     0  75344      0  0:00:05  0:00:05 --:--:--  878k\n"
          ]
        }
      ]
    },
    {
      "cell_type": "code",
      "execution_count": 28,
      "id": "cf4ab7e0",
      "metadata": {
        "id": "cf4ab7e0"
      },
      "outputs": [],
      "source": [
        "# Data Manipulation\n",
        "import numpy as np\n",
        "import pandas as pd\n",
        "\n",
        "# Technical Indicators\n",
        "import talib as ta\n",
        "\n",
        "# Plotting graphs\n",
        "import matplotlib.pyplot as plt\n",
        "\n",
        "# Machine learning\n",
        "from sklearn.linear_model import LogisticRegression\n",
        "from sklearn import metrics\n",
        "from sklearn.model_selection import cross_val_score\n",
        "\n",
        "# Data fetching\n",
        "from pandas_datareader import data as pdr\n",
        "import yfinance as yf\n",
        "yf.pdr_override()"
      ]
    },
    {
      "cell_type": "code",
      "execution_count": 29,
      "id": "69d7c994",
      "metadata": {
        "id": "69d7c994"
      },
      "outputs": [],
      "source": [
        "df['S_10'] = df['Close'].rolling(window=10).mean()\n",
        "df['Corr'] = df['Close'].rolling(window=10).corr(df['S_10'])\n",
        "df['RSI'] = ta.RSI(np.array(df['Close']), timeperiod =10)\n",
        "df['Open-Close'] = df['Open'] - df['Close'].shift(1)\n",
        "df['Open-Open'] = df['Open'] - df['Open'].shift(1)\n",
        "df = df.dropna()\n",
        "X = df.iloc[:,:9]"
      ]
    },
    {
      "cell_type": "code",
      "execution_count": 30,
      "id": "d153218b",
      "metadata": {
        "colab": {
          "base_uri": "https://localhost:8080/"
        },
        "id": "d153218b",
        "outputId": "ea22dc6a-8c7a-481d-9905-5ea9ba282aa1"
      },
      "outputs": [
        {
          "output_type": "stream",
          "name": "stderr",
          "text": [
            "\r[*********************100%%**********************]  1 of 1 completed\n"
          ]
        }
      ],
      "source": [
        "\n",
        "# ดึงข้อมูลการซื้อขายของ IBM ในช่วงเวลาที่ตรงกับ X\n",
        "df_ibm = yf.download('IBM', start='2021-07-28', end='2023-12-10')\n",
        "df_ibm = df_ibm.dropna()\n",
        "\n",
        "# คำนวณ RSI ของ IBM\n",
        "#df_ibm['RSI_IBM'] = ta.RSI(np.array(df_ibm['Close']), timeperiod=10)\n",
        "df_ibm['S_10'] = df_ibm['Close'].rolling(window=10).mean()\n",
        "df_ibm['Corr_IBM'] = df_ibm['Close'].rolling(window=10).corr(df_ibm['S_10'])\n",
        "\n",
        "# เลือกเฉพาะคอลัมน์ที่ต้องการจะนำมาใช้\n",
        "df_ibm = df_ibm[['Corr_IBM']]\n",
        "\n",
        "# รวม DataFrame X และ RSI ของ IBM เข้าด้วยกัน\n",
        "X2 = pd.concat([X, df_ibm], axis=1)\n",
        "\n",
        "# แทน NaN ในคอลัมน์ 'RSI_IBM' ด้วย 0\n",
        "X2['Corr_IBM'] = X2['Corr_IBM'].fillna(0)"
      ]
    },
    {
      "cell_type": "code",
      "execution_count": 31,
      "id": "f9d28082",
      "metadata": {
        "colab": {
          "base_uri": "https://localhost:8080/",
          "height": 75
        },
        "id": "f9d28082",
        "outputId": "9fc2aef1-b0f4-4200-cf34-bbecaf06830c"
      },
      "outputs": [
        {
          "output_type": "execute_result",
          "data": {
            "text/plain": [
              "LogisticRegression()"
            ],
            "text/html": [
              "<style>#sk-container-id-3 {color: black;background-color: white;}#sk-container-id-3 pre{padding: 0;}#sk-container-id-3 div.sk-toggleable {background-color: white;}#sk-container-id-3 label.sk-toggleable__label {cursor: pointer;display: block;width: 100%;margin-bottom: 0;padding: 0.3em;box-sizing: border-box;text-align: center;}#sk-container-id-3 label.sk-toggleable__label-arrow:before {content: \"▸\";float: left;margin-right: 0.25em;color: #696969;}#sk-container-id-3 label.sk-toggleable__label-arrow:hover:before {color: black;}#sk-container-id-3 div.sk-estimator:hover label.sk-toggleable__label-arrow:before {color: black;}#sk-container-id-3 div.sk-toggleable__content {max-height: 0;max-width: 0;overflow: hidden;text-align: left;background-color: #f0f8ff;}#sk-container-id-3 div.sk-toggleable__content pre {margin: 0.2em;color: black;border-radius: 0.25em;background-color: #f0f8ff;}#sk-container-id-3 input.sk-toggleable__control:checked~div.sk-toggleable__content {max-height: 200px;max-width: 100%;overflow: auto;}#sk-container-id-3 input.sk-toggleable__control:checked~label.sk-toggleable__label-arrow:before {content: \"▾\";}#sk-container-id-3 div.sk-estimator input.sk-toggleable__control:checked~label.sk-toggleable__label {background-color: #d4ebff;}#sk-container-id-3 div.sk-label input.sk-toggleable__control:checked~label.sk-toggleable__label {background-color: #d4ebff;}#sk-container-id-3 input.sk-hidden--visually {border: 0;clip: rect(1px 1px 1px 1px);clip: rect(1px, 1px, 1px, 1px);height: 1px;margin: -1px;overflow: hidden;padding: 0;position: absolute;width: 1px;}#sk-container-id-3 div.sk-estimator {font-family: monospace;background-color: #f0f8ff;border: 1px dotted black;border-radius: 0.25em;box-sizing: border-box;margin-bottom: 0.5em;}#sk-container-id-3 div.sk-estimator:hover {background-color: #d4ebff;}#sk-container-id-3 div.sk-parallel-item::after {content: \"\";width: 100%;border-bottom: 1px solid gray;flex-grow: 1;}#sk-container-id-3 div.sk-label:hover label.sk-toggleable__label {background-color: #d4ebff;}#sk-container-id-3 div.sk-serial::before {content: \"\";position: absolute;border-left: 1px solid gray;box-sizing: border-box;top: 0;bottom: 0;left: 50%;z-index: 0;}#sk-container-id-3 div.sk-serial {display: flex;flex-direction: column;align-items: center;background-color: white;padding-right: 0.2em;padding-left: 0.2em;position: relative;}#sk-container-id-3 div.sk-item {position: relative;z-index: 1;}#sk-container-id-3 div.sk-parallel {display: flex;align-items: stretch;justify-content: center;background-color: white;position: relative;}#sk-container-id-3 div.sk-item::before, #sk-container-id-3 div.sk-parallel-item::before {content: \"\";position: absolute;border-left: 1px solid gray;box-sizing: border-box;top: 0;bottom: 0;left: 50%;z-index: -1;}#sk-container-id-3 div.sk-parallel-item {display: flex;flex-direction: column;z-index: 1;position: relative;background-color: white;}#sk-container-id-3 div.sk-parallel-item:first-child::after {align-self: flex-end;width: 50%;}#sk-container-id-3 div.sk-parallel-item:last-child::after {align-self: flex-start;width: 50%;}#sk-container-id-3 div.sk-parallel-item:only-child::after {width: 0;}#sk-container-id-3 div.sk-dashed-wrapped {border: 1px dashed gray;margin: 0 0.4em 0.5em 0.4em;box-sizing: border-box;padding-bottom: 0.4em;background-color: white;}#sk-container-id-3 div.sk-label label {font-family: monospace;font-weight: bold;display: inline-block;line-height: 1.2em;}#sk-container-id-3 div.sk-label-container {text-align: center;}#sk-container-id-3 div.sk-container {/* jupyter's `normalize.less` sets `[hidden] { display: none; }` but bootstrap.min.css set `[hidden] { display: none !important; }` so we also need the `!important` here to be able to override the default hidden behavior on the sphinx rendered scikit-learn.org. See: https://github.com/scikit-learn/scikit-learn/issues/21755 */display: inline-block !important;position: relative;}#sk-container-id-3 div.sk-text-repr-fallback {display: none;}</style><div id=\"sk-container-id-3\" class=\"sk-top-container\"><div class=\"sk-text-repr-fallback\"><pre>LogisticRegression()</pre><b>In a Jupyter environment, please rerun this cell to show the HTML representation or trust the notebook. <br />On GitHub, the HTML representation is unable to render, please try loading this page with nbviewer.org.</b></div><div class=\"sk-container\" hidden><div class=\"sk-item\"><div class=\"sk-estimator sk-toggleable\"><input class=\"sk-toggleable__control sk-hidden--visually\" id=\"sk-estimator-id-3\" type=\"checkbox\" checked><label for=\"sk-estimator-id-3\" class=\"sk-toggleable__label sk-toggleable__label-arrow\">LogisticRegression</label><div class=\"sk-toggleable__content\"><pre>LogisticRegression()</pre></div></div></div></div></div>"
            ]
          },
          "metadata": {},
          "execution_count": 31
        }
      ],
      "source": [
        "y = np.where(df['Close'].shift(-1) > df['Close'],1,-1)\n",
        "split = int(0.8*len(df))\n",
        "X_train, X_test, y_train, y_test = X[:split], X[split:], y[:split], y[split:]\n",
        "\n",
        "\n",
        "from sklearn.preprocessing import StandardScaler\n",
        "\n",
        "scaler = StandardScaler()\n",
        "X_train_scaled = scaler.fit_transform(X_train)\n",
        "X_test_scaled = scaler.transform(X_test)\n",
        "\n",
        "model = LogisticRegression()\n",
        "model.fit(X_train_scaled, y_train)"
      ]
    },
    {
      "cell_type": "code",
      "execution_count": 32,
      "id": "09fd61c7",
      "metadata": {
        "colab": {
          "base_uri": "https://localhost:8080/",
          "height": 75
        },
        "id": "09fd61c7",
        "outputId": "bf252292-89ff-47a7-baf0-d1ffd7f35be3"
      },
      "outputs": [
        {
          "output_type": "execute_result",
          "data": {
            "text/plain": [
              "LogisticRegression()"
            ],
            "text/html": [
              "<style>#sk-container-id-4 {color: black;background-color: white;}#sk-container-id-4 pre{padding: 0;}#sk-container-id-4 div.sk-toggleable {background-color: white;}#sk-container-id-4 label.sk-toggleable__label {cursor: pointer;display: block;width: 100%;margin-bottom: 0;padding: 0.3em;box-sizing: border-box;text-align: center;}#sk-container-id-4 label.sk-toggleable__label-arrow:before {content: \"▸\";float: left;margin-right: 0.25em;color: #696969;}#sk-container-id-4 label.sk-toggleable__label-arrow:hover:before {color: black;}#sk-container-id-4 div.sk-estimator:hover label.sk-toggleable__label-arrow:before {color: black;}#sk-container-id-4 div.sk-toggleable__content {max-height: 0;max-width: 0;overflow: hidden;text-align: left;background-color: #f0f8ff;}#sk-container-id-4 div.sk-toggleable__content pre {margin: 0.2em;color: black;border-radius: 0.25em;background-color: #f0f8ff;}#sk-container-id-4 input.sk-toggleable__control:checked~div.sk-toggleable__content {max-height: 200px;max-width: 100%;overflow: auto;}#sk-container-id-4 input.sk-toggleable__control:checked~label.sk-toggleable__label-arrow:before {content: \"▾\";}#sk-container-id-4 div.sk-estimator input.sk-toggleable__control:checked~label.sk-toggleable__label {background-color: #d4ebff;}#sk-container-id-4 div.sk-label input.sk-toggleable__control:checked~label.sk-toggleable__label {background-color: #d4ebff;}#sk-container-id-4 input.sk-hidden--visually {border: 0;clip: rect(1px 1px 1px 1px);clip: rect(1px, 1px, 1px, 1px);height: 1px;margin: -1px;overflow: hidden;padding: 0;position: absolute;width: 1px;}#sk-container-id-4 div.sk-estimator {font-family: monospace;background-color: #f0f8ff;border: 1px dotted black;border-radius: 0.25em;box-sizing: border-box;margin-bottom: 0.5em;}#sk-container-id-4 div.sk-estimator:hover {background-color: #d4ebff;}#sk-container-id-4 div.sk-parallel-item::after {content: \"\";width: 100%;border-bottom: 1px solid gray;flex-grow: 1;}#sk-container-id-4 div.sk-label:hover label.sk-toggleable__label {background-color: #d4ebff;}#sk-container-id-4 div.sk-serial::before {content: \"\";position: absolute;border-left: 1px solid gray;box-sizing: border-box;top: 0;bottom: 0;left: 50%;z-index: 0;}#sk-container-id-4 div.sk-serial {display: flex;flex-direction: column;align-items: center;background-color: white;padding-right: 0.2em;padding-left: 0.2em;position: relative;}#sk-container-id-4 div.sk-item {position: relative;z-index: 1;}#sk-container-id-4 div.sk-parallel {display: flex;align-items: stretch;justify-content: center;background-color: white;position: relative;}#sk-container-id-4 div.sk-item::before, #sk-container-id-4 div.sk-parallel-item::before {content: \"\";position: absolute;border-left: 1px solid gray;box-sizing: border-box;top: 0;bottom: 0;left: 50%;z-index: -1;}#sk-container-id-4 div.sk-parallel-item {display: flex;flex-direction: column;z-index: 1;position: relative;background-color: white;}#sk-container-id-4 div.sk-parallel-item:first-child::after {align-self: flex-end;width: 50%;}#sk-container-id-4 div.sk-parallel-item:last-child::after {align-self: flex-start;width: 50%;}#sk-container-id-4 div.sk-parallel-item:only-child::after {width: 0;}#sk-container-id-4 div.sk-dashed-wrapped {border: 1px dashed gray;margin: 0 0.4em 0.5em 0.4em;box-sizing: border-box;padding-bottom: 0.4em;background-color: white;}#sk-container-id-4 div.sk-label label {font-family: monospace;font-weight: bold;display: inline-block;line-height: 1.2em;}#sk-container-id-4 div.sk-label-container {text-align: center;}#sk-container-id-4 div.sk-container {/* jupyter's `normalize.less` sets `[hidden] { display: none; }` but bootstrap.min.css set `[hidden] { display: none !important; }` so we also need the `!important` here to be able to override the default hidden behavior on the sphinx rendered scikit-learn.org. See: https://github.com/scikit-learn/scikit-learn/issues/21755 */display: inline-block !important;position: relative;}#sk-container-id-4 div.sk-text-repr-fallback {display: none;}</style><div id=\"sk-container-id-4\" class=\"sk-top-container\"><div class=\"sk-text-repr-fallback\"><pre>LogisticRegression()</pre><b>In a Jupyter environment, please rerun this cell to show the HTML representation or trust the notebook. <br />On GitHub, the HTML representation is unable to render, please try loading this page with nbviewer.org.</b></div><div class=\"sk-container\" hidden><div class=\"sk-item\"><div class=\"sk-estimator sk-toggleable\"><input class=\"sk-toggleable__control sk-hidden--visually\" id=\"sk-estimator-id-4\" type=\"checkbox\" checked><label for=\"sk-estimator-id-4\" class=\"sk-toggleable__label sk-toggleable__label-arrow\">LogisticRegression</label><div class=\"sk-toggleable__content\"><pre>LogisticRegression()</pre></div></div></div></div></div>"
            ]
          },
          "metadata": {},
          "execution_count": 32
        }
      ],
      "source": [
        "# สร้างตัวแปรตามโค้ดก่อนหน้า\n",
        "y2 = np.where(df['Close'].shift(-1) > df['Close'], 1, -1)\n",
        "split2 = int(0.8 * len(df))\n",
        "X_train2, X_test2, y_train2, y_test2 = X2[:split2], X2[split2:], y2[:split2], y2[split2:]\n",
        "\n",
        "# ทำ Standardization ของข้อมูล\n",
        "scaler2 = StandardScaler()\n",
        "X_train_scaled2 = scaler2.fit_transform(X_train2)\n",
        "X_test_scaled2 = scaler2.transform(X_test2)\n",
        "\n",
        "# สร้างและฝึกโมเดล\n",
        "model2 = LogisticRegression()\n",
        "model2.fit(X_train_scaled2, y_train2)\n"
      ]
    },
    {
      "cell_type": "code",
      "execution_count": 33,
      "id": "96f07b4a",
      "metadata": {
        "colab": {
          "base_uri": "https://localhost:8080/",
          "height": 332
        },
        "id": "96f07b4a",
        "outputId": "217eb4f3-f592-46df-a46c-224a549f8eba"
      },
      "outputs": [
        {
          "output_type": "execute_result",
          "data": {
            "text/plain": [
              "            0                        1\n",
              "0        Open   [-0.37417389892088704]\n",
              "1        High    [0.02403925660728819]\n",
              "2         Low     [0.2770935945598492]\n",
              "3       Close    [0.30258984869712924]\n",
              "4        S_10   [-0.20348492934710757]\n",
              "5        Corr   [-0.09071863294314779]\n",
              "6         RSI  [-0.053489740872011644]\n",
              "7  Open-Close     [0.2190563987185024]\n",
              "8   Open-Open   [-0.19489005883739724]"
            ],
            "text/html": [
              "\n",
              "  <div id=\"df-5f3bb907-0637-4e96-a3c1-8db3e47aa9ba\" class=\"colab-df-container\">\n",
              "    <div>\n",
              "<style scoped>\n",
              "    .dataframe tbody tr th:only-of-type {\n",
              "        vertical-align: middle;\n",
              "    }\n",
              "\n",
              "    .dataframe tbody tr th {\n",
              "        vertical-align: top;\n",
              "    }\n",
              "\n",
              "    .dataframe thead th {\n",
              "        text-align: right;\n",
              "    }\n",
              "</style>\n",
              "<table border=\"1\" class=\"dataframe\">\n",
              "  <thead>\n",
              "    <tr style=\"text-align: right;\">\n",
              "      <th></th>\n",
              "      <th>0</th>\n",
              "      <th>1</th>\n",
              "    </tr>\n",
              "  </thead>\n",
              "  <tbody>\n",
              "    <tr>\n",
              "      <th>0</th>\n",
              "      <td>Open</td>\n",
              "      <td>[-0.37417389892088704]</td>\n",
              "    </tr>\n",
              "    <tr>\n",
              "      <th>1</th>\n",
              "      <td>High</td>\n",
              "      <td>[0.02403925660728819]</td>\n",
              "    </tr>\n",
              "    <tr>\n",
              "      <th>2</th>\n",
              "      <td>Low</td>\n",
              "      <td>[0.2770935945598492]</td>\n",
              "    </tr>\n",
              "    <tr>\n",
              "      <th>3</th>\n",
              "      <td>Close</td>\n",
              "      <td>[0.30258984869712924]</td>\n",
              "    </tr>\n",
              "    <tr>\n",
              "      <th>4</th>\n",
              "      <td>S_10</td>\n",
              "      <td>[-0.20348492934710757]</td>\n",
              "    </tr>\n",
              "    <tr>\n",
              "      <th>5</th>\n",
              "      <td>Corr</td>\n",
              "      <td>[-0.09071863294314779]</td>\n",
              "    </tr>\n",
              "    <tr>\n",
              "      <th>6</th>\n",
              "      <td>RSI</td>\n",
              "      <td>[-0.053489740872011644]</td>\n",
              "    </tr>\n",
              "    <tr>\n",
              "      <th>7</th>\n",
              "      <td>Open-Close</td>\n",
              "      <td>[0.2190563987185024]</td>\n",
              "    </tr>\n",
              "    <tr>\n",
              "      <th>8</th>\n",
              "      <td>Open-Open</td>\n",
              "      <td>[-0.19489005883739724]</td>\n",
              "    </tr>\n",
              "  </tbody>\n",
              "</table>\n",
              "</div>\n",
              "    <div class=\"colab-df-buttons\">\n",
              "\n",
              "  <div class=\"colab-df-container\">\n",
              "    <button class=\"colab-df-convert\" onclick=\"convertToInteractive('df-5f3bb907-0637-4e96-a3c1-8db3e47aa9ba')\"\n",
              "            title=\"Convert this dataframe to an interactive table.\"\n",
              "            style=\"display:none;\">\n",
              "\n",
              "  <svg xmlns=\"http://www.w3.org/2000/svg\" height=\"24px\" viewBox=\"0 -960 960 960\">\n",
              "    <path d=\"M120-120v-720h720v720H120Zm60-500h600v-160H180v160Zm220 220h160v-160H400v160Zm0 220h160v-160H400v160ZM180-400h160v-160H180v160Zm440 0h160v-160H620v160ZM180-180h160v-160H180v160Zm440 0h160v-160H620v160Z\"/>\n",
              "  </svg>\n",
              "    </button>\n",
              "\n",
              "  <style>\n",
              "    .colab-df-container {\n",
              "      display:flex;\n",
              "      gap: 12px;\n",
              "    }\n",
              "\n",
              "    .colab-df-convert {\n",
              "      background-color: #E8F0FE;\n",
              "      border: none;\n",
              "      border-radius: 50%;\n",
              "      cursor: pointer;\n",
              "      display: none;\n",
              "      fill: #1967D2;\n",
              "      height: 32px;\n",
              "      padding: 0 0 0 0;\n",
              "      width: 32px;\n",
              "    }\n",
              "\n",
              "    .colab-df-convert:hover {\n",
              "      background-color: #E2EBFA;\n",
              "      box-shadow: 0px 1px 2px rgba(60, 64, 67, 0.3), 0px 1px 3px 1px rgba(60, 64, 67, 0.15);\n",
              "      fill: #174EA6;\n",
              "    }\n",
              "\n",
              "    .colab-df-buttons div {\n",
              "      margin-bottom: 4px;\n",
              "    }\n",
              "\n",
              "    [theme=dark] .colab-df-convert {\n",
              "      background-color: #3B4455;\n",
              "      fill: #D2E3FC;\n",
              "    }\n",
              "\n",
              "    [theme=dark] .colab-df-convert:hover {\n",
              "      background-color: #434B5C;\n",
              "      box-shadow: 0px 1px 3px 1px rgba(0, 0, 0, 0.15);\n",
              "      filter: drop-shadow(0px 1px 2px rgba(0, 0, 0, 0.3));\n",
              "      fill: #FFFFFF;\n",
              "    }\n",
              "  </style>\n",
              "\n",
              "    <script>\n",
              "      const buttonEl =\n",
              "        document.querySelector('#df-5f3bb907-0637-4e96-a3c1-8db3e47aa9ba button.colab-df-convert');\n",
              "      buttonEl.style.display =\n",
              "        google.colab.kernel.accessAllowed ? 'block' : 'none';\n",
              "\n",
              "      async function convertToInteractive(key) {\n",
              "        const element = document.querySelector('#df-5f3bb907-0637-4e96-a3c1-8db3e47aa9ba');\n",
              "        const dataTable =\n",
              "          await google.colab.kernel.invokeFunction('convertToInteractive',\n",
              "                                                    [key], {});\n",
              "        if (!dataTable) return;\n",
              "\n",
              "        const docLinkHtml = 'Like what you see? Visit the ' +\n",
              "          '<a target=\"_blank\" href=https://colab.research.google.com/notebooks/data_table.ipynb>data table notebook</a>'\n",
              "          + ' to learn more about interactive tables.';\n",
              "        element.innerHTML = '';\n",
              "        dataTable['output_type'] = 'display_data';\n",
              "        await google.colab.output.renderOutput(dataTable, element);\n",
              "        const docLink = document.createElement('div');\n",
              "        docLink.innerHTML = docLinkHtml;\n",
              "        element.appendChild(docLink);\n",
              "      }\n",
              "    </script>\n",
              "  </div>\n",
              "\n",
              "\n",
              "<div id=\"df-22011765-a4bd-49f3-aae3-14eef715d2c9\">\n",
              "  <button class=\"colab-df-quickchart\" onclick=\"quickchart('df-22011765-a4bd-49f3-aae3-14eef715d2c9')\"\n",
              "            title=\"Suggest charts\"\n",
              "            style=\"display:none;\">\n",
              "\n",
              "<svg xmlns=\"http://www.w3.org/2000/svg\" height=\"24px\"viewBox=\"0 0 24 24\"\n",
              "     width=\"24px\">\n",
              "    <g>\n",
              "        <path d=\"M19 3H5c-1.1 0-2 .9-2 2v14c0 1.1.9 2 2 2h14c1.1 0 2-.9 2-2V5c0-1.1-.9-2-2-2zM9 17H7v-7h2v7zm4 0h-2V7h2v10zm4 0h-2v-4h2v4z\"/>\n",
              "    </g>\n",
              "</svg>\n",
              "  </button>\n",
              "\n",
              "<style>\n",
              "  .colab-df-quickchart {\n",
              "      --bg-color: #E8F0FE;\n",
              "      --fill-color: #1967D2;\n",
              "      --hover-bg-color: #E2EBFA;\n",
              "      --hover-fill-color: #174EA6;\n",
              "      --disabled-fill-color: #AAA;\n",
              "      --disabled-bg-color: #DDD;\n",
              "  }\n",
              "\n",
              "  [theme=dark] .colab-df-quickchart {\n",
              "      --bg-color: #3B4455;\n",
              "      --fill-color: #D2E3FC;\n",
              "      --hover-bg-color: #434B5C;\n",
              "      --hover-fill-color: #FFFFFF;\n",
              "      --disabled-bg-color: #3B4455;\n",
              "      --disabled-fill-color: #666;\n",
              "  }\n",
              "\n",
              "  .colab-df-quickchart {\n",
              "    background-color: var(--bg-color);\n",
              "    border: none;\n",
              "    border-radius: 50%;\n",
              "    cursor: pointer;\n",
              "    display: none;\n",
              "    fill: var(--fill-color);\n",
              "    height: 32px;\n",
              "    padding: 0;\n",
              "    width: 32px;\n",
              "  }\n",
              "\n",
              "  .colab-df-quickchart:hover {\n",
              "    background-color: var(--hover-bg-color);\n",
              "    box-shadow: 0 1px 2px rgba(60, 64, 67, 0.3), 0 1px 3px 1px rgba(60, 64, 67, 0.15);\n",
              "    fill: var(--button-hover-fill-color);\n",
              "  }\n",
              "\n",
              "  .colab-df-quickchart-complete:disabled,\n",
              "  .colab-df-quickchart-complete:disabled:hover {\n",
              "    background-color: var(--disabled-bg-color);\n",
              "    fill: var(--disabled-fill-color);\n",
              "    box-shadow: none;\n",
              "  }\n",
              "\n",
              "  .colab-df-spinner {\n",
              "    border: 2px solid var(--fill-color);\n",
              "    border-color: transparent;\n",
              "    border-bottom-color: var(--fill-color);\n",
              "    animation:\n",
              "      spin 1s steps(1) infinite;\n",
              "  }\n",
              "\n",
              "  @keyframes spin {\n",
              "    0% {\n",
              "      border-color: transparent;\n",
              "      border-bottom-color: var(--fill-color);\n",
              "      border-left-color: var(--fill-color);\n",
              "    }\n",
              "    20% {\n",
              "      border-color: transparent;\n",
              "      border-left-color: var(--fill-color);\n",
              "      border-top-color: var(--fill-color);\n",
              "    }\n",
              "    30% {\n",
              "      border-color: transparent;\n",
              "      border-left-color: var(--fill-color);\n",
              "      border-top-color: var(--fill-color);\n",
              "      border-right-color: var(--fill-color);\n",
              "    }\n",
              "    40% {\n",
              "      border-color: transparent;\n",
              "      border-right-color: var(--fill-color);\n",
              "      border-top-color: var(--fill-color);\n",
              "    }\n",
              "    60% {\n",
              "      border-color: transparent;\n",
              "      border-right-color: var(--fill-color);\n",
              "    }\n",
              "    80% {\n",
              "      border-color: transparent;\n",
              "      border-right-color: var(--fill-color);\n",
              "      border-bottom-color: var(--fill-color);\n",
              "    }\n",
              "    90% {\n",
              "      border-color: transparent;\n",
              "      border-bottom-color: var(--fill-color);\n",
              "    }\n",
              "  }\n",
              "</style>\n",
              "\n",
              "  <script>\n",
              "    async function quickchart(key) {\n",
              "      const quickchartButtonEl =\n",
              "        document.querySelector('#' + key + ' button');\n",
              "      quickchartButtonEl.disabled = true;  // To prevent multiple clicks.\n",
              "      quickchartButtonEl.classList.add('colab-df-spinner');\n",
              "      try {\n",
              "        const charts = await google.colab.kernel.invokeFunction(\n",
              "            'suggestCharts', [key], {});\n",
              "      } catch (error) {\n",
              "        console.error('Error during call to suggestCharts:', error);\n",
              "      }\n",
              "      quickchartButtonEl.classList.remove('colab-df-spinner');\n",
              "      quickchartButtonEl.classList.add('colab-df-quickchart-complete');\n",
              "    }\n",
              "    (() => {\n",
              "      let quickchartButtonEl =\n",
              "        document.querySelector('#df-22011765-a4bd-49f3-aae3-14eef715d2c9 button');\n",
              "      quickchartButtonEl.style.display =\n",
              "        google.colab.kernel.accessAllowed ? 'block' : 'none';\n",
              "    })();\n",
              "  </script>\n",
              "</div>\n",
              "    </div>\n",
              "  </div>\n"
            ],
            "application/vnd.google.colaboratory.intrinsic+json": {
              "type": "dataframe",
              "repr_error": "unhashable type: 'numpy.ndarray'"
            }
          },
          "metadata": {},
          "execution_count": 33
        }
      ],
      "source": [
        "pd.DataFrame(zip(X.columns, np.transpose(model.coef_)))"
      ]
    },
    {
      "cell_type": "code",
      "execution_count": 34,
      "id": "f14f80e2",
      "metadata": {
        "colab": {
          "base_uri": "https://localhost:8080/",
          "height": 363
        },
        "id": "f14f80e2",
        "outputId": "488eac0b-87f0-4b27-8433-70c9d0eb1c7b"
      },
      "outputs": [
        {
          "output_type": "execute_result",
          "data": {
            "text/plain": [
              "            0                        1\n",
              "0        Open    [-0.3689774247430409]\n",
              "1        High   [0.004579691984520294]\n",
              "2         Low     [0.3054735014776144]\n",
              "3       Close     [0.2992964621226188]\n",
              "4        S_10    [-0.2188831186122158]\n",
              "5        Corr   [-0.09400843418501215]\n",
              "6         RSI  [-0.048593389201683955]\n",
              "7  Open-Close     [0.2205472314166508]\n",
              "8   Open-Open   [-0.20252075948992157]\n",
              "9    Corr_IBM   [-0.08737305322640829]"
            ],
            "text/html": [
              "\n",
              "  <div id=\"df-87130fea-2fee-46ce-a260-9f564383934d\" class=\"colab-df-container\">\n",
              "    <div>\n",
              "<style scoped>\n",
              "    .dataframe tbody tr th:only-of-type {\n",
              "        vertical-align: middle;\n",
              "    }\n",
              "\n",
              "    .dataframe tbody tr th {\n",
              "        vertical-align: top;\n",
              "    }\n",
              "\n",
              "    .dataframe thead th {\n",
              "        text-align: right;\n",
              "    }\n",
              "</style>\n",
              "<table border=\"1\" class=\"dataframe\">\n",
              "  <thead>\n",
              "    <tr style=\"text-align: right;\">\n",
              "      <th></th>\n",
              "      <th>0</th>\n",
              "      <th>1</th>\n",
              "    </tr>\n",
              "  </thead>\n",
              "  <tbody>\n",
              "    <tr>\n",
              "      <th>0</th>\n",
              "      <td>Open</td>\n",
              "      <td>[-0.3689774247430409]</td>\n",
              "    </tr>\n",
              "    <tr>\n",
              "      <th>1</th>\n",
              "      <td>High</td>\n",
              "      <td>[0.004579691984520294]</td>\n",
              "    </tr>\n",
              "    <tr>\n",
              "      <th>2</th>\n",
              "      <td>Low</td>\n",
              "      <td>[0.3054735014776144]</td>\n",
              "    </tr>\n",
              "    <tr>\n",
              "      <th>3</th>\n",
              "      <td>Close</td>\n",
              "      <td>[0.2992964621226188]</td>\n",
              "    </tr>\n",
              "    <tr>\n",
              "      <th>4</th>\n",
              "      <td>S_10</td>\n",
              "      <td>[-0.2188831186122158]</td>\n",
              "    </tr>\n",
              "    <tr>\n",
              "      <th>5</th>\n",
              "      <td>Corr</td>\n",
              "      <td>[-0.09400843418501215]</td>\n",
              "    </tr>\n",
              "    <tr>\n",
              "      <th>6</th>\n",
              "      <td>RSI</td>\n",
              "      <td>[-0.048593389201683955]</td>\n",
              "    </tr>\n",
              "    <tr>\n",
              "      <th>7</th>\n",
              "      <td>Open-Close</td>\n",
              "      <td>[0.2205472314166508]</td>\n",
              "    </tr>\n",
              "    <tr>\n",
              "      <th>8</th>\n",
              "      <td>Open-Open</td>\n",
              "      <td>[-0.20252075948992157]</td>\n",
              "    </tr>\n",
              "    <tr>\n",
              "      <th>9</th>\n",
              "      <td>Corr_IBM</td>\n",
              "      <td>[-0.08737305322640829]</td>\n",
              "    </tr>\n",
              "  </tbody>\n",
              "</table>\n",
              "</div>\n",
              "    <div class=\"colab-df-buttons\">\n",
              "\n",
              "  <div class=\"colab-df-container\">\n",
              "    <button class=\"colab-df-convert\" onclick=\"convertToInteractive('df-87130fea-2fee-46ce-a260-9f564383934d')\"\n",
              "            title=\"Convert this dataframe to an interactive table.\"\n",
              "            style=\"display:none;\">\n",
              "\n",
              "  <svg xmlns=\"http://www.w3.org/2000/svg\" height=\"24px\" viewBox=\"0 -960 960 960\">\n",
              "    <path d=\"M120-120v-720h720v720H120Zm60-500h600v-160H180v160Zm220 220h160v-160H400v160Zm0 220h160v-160H400v160ZM180-400h160v-160H180v160Zm440 0h160v-160H620v160ZM180-180h160v-160H180v160Zm440 0h160v-160H620v160Z\"/>\n",
              "  </svg>\n",
              "    </button>\n",
              "\n",
              "  <style>\n",
              "    .colab-df-container {\n",
              "      display:flex;\n",
              "      gap: 12px;\n",
              "    }\n",
              "\n",
              "    .colab-df-convert {\n",
              "      background-color: #E8F0FE;\n",
              "      border: none;\n",
              "      border-radius: 50%;\n",
              "      cursor: pointer;\n",
              "      display: none;\n",
              "      fill: #1967D2;\n",
              "      height: 32px;\n",
              "      padding: 0 0 0 0;\n",
              "      width: 32px;\n",
              "    }\n",
              "\n",
              "    .colab-df-convert:hover {\n",
              "      background-color: #E2EBFA;\n",
              "      box-shadow: 0px 1px 2px rgba(60, 64, 67, 0.3), 0px 1px 3px 1px rgba(60, 64, 67, 0.15);\n",
              "      fill: #174EA6;\n",
              "    }\n",
              "\n",
              "    .colab-df-buttons div {\n",
              "      margin-bottom: 4px;\n",
              "    }\n",
              "\n",
              "    [theme=dark] .colab-df-convert {\n",
              "      background-color: #3B4455;\n",
              "      fill: #D2E3FC;\n",
              "    }\n",
              "\n",
              "    [theme=dark] .colab-df-convert:hover {\n",
              "      background-color: #434B5C;\n",
              "      box-shadow: 0px 1px 3px 1px rgba(0, 0, 0, 0.15);\n",
              "      filter: drop-shadow(0px 1px 2px rgba(0, 0, 0, 0.3));\n",
              "      fill: #FFFFFF;\n",
              "    }\n",
              "  </style>\n",
              "\n",
              "    <script>\n",
              "      const buttonEl =\n",
              "        document.querySelector('#df-87130fea-2fee-46ce-a260-9f564383934d button.colab-df-convert');\n",
              "      buttonEl.style.display =\n",
              "        google.colab.kernel.accessAllowed ? 'block' : 'none';\n",
              "\n",
              "      async function convertToInteractive(key) {\n",
              "        const element = document.querySelector('#df-87130fea-2fee-46ce-a260-9f564383934d');\n",
              "        const dataTable =\n",
              "          await google.colab.kernel.invokeFunction('convertToInteractive',\n",
              "                                                    [key], {});\n",
              "        if (!dataTable) return;\n",
              "\n",
              "        const docLinkHtml = 'Like what you see? Visit the ' +\n",
              "          '<a target=\"_blank\" href=https://colab.research.google.com/notebooks/data_table.ipynb>data table notebook</a>'\n",
              "          + ' to learn more about interactive tables.';\n",
              "        element.innerHTML = '';\n",
              "        dataTable['output_type'] = 'display_data';\n",
              "        await google.colab.output.renderOutput(dataTable, element);\n",
              "        const docLink = document.createElement('div');\n",
              "        docLink.innerHTML = docLinkHtml;\n",
              "        element.appendChild(docLink);\n",
              "      }\n",
              "    </script>\n",
              "  </div>\n",
              "\n",
              "\n",
              "<div id=\"df-03306cb7-794d-4b91-a255-fb88ce3863fd\">\n",
              "  <button class=\"colab-df-quickchart\" onclick=\"quickchart('df-03306cb7-794d-4b91-a255-fb88ce3863fd')\"\n",
              "            title=\"Suggest charts\"\n",
              "            style=\"display:none;\">\n",
              "\n",
              "<svg xmlns=\"http://www.w3.org/2000/svg\" height=\"24px\"viewBox=\"0 0 24 24\"\n",
              "     width=\"24px\">\n",
              "    <g>\n",
              "        <path d=\"M19 3H5c-1.1 0-2 .9-2 2v14c0 1.1.9 2 2 2h14c1.1 0 2-.9 2-2V5c0-1.1-.9-2-2-2zM9 17H7v-7h2v7zm4 0h-2V7h2v10zm4 0h-2v-4h2v4z\"/>\n",
              "    </g>\n",
              "</svg>\n",
              "  </button>\n",
              "\n",
              "<style>\n",
              "  .colab-df-quickchart {\n",
              "      --bg-color: #E8F0FE;\n",
              "      --fill-color: #1967D2;\n",
              "      --hover-bg-color: #E2EBFA;\n",
              "      --hover-fill-color: #174EA6;\n",
              "      --disabled-fill-color: #AAA;\n",
              "      --disabled-bg-color: #DDD;\n",
              "  }\n",
              "\n",
              "  [theme=dark] .colab-df-quickchart {\n",
              "      --bg-color: #3B4455;\n",
              "      --fill-color: #D2E3FC;\n",
              "      --hover-bg-color: #434B5C;\n",
              "      --hover-fill-color: #FFFFFF;\n",
              "      --disabled-bg-color: #3B4455;\n",
              "      --disabled-fill-color: #666;\n",
              "  }\n",
              "\n",
              "  .colab-df-quickchart {\n",
              "    background-color: var(--bg-color);\n",
              "    border: none;\n",
              "    border-radius: 50%;\n",
              "    cursor: pointer;\n",
              "    display: none;\n",
              "    fill: var(--fill-color);\n",
              "    height: 32px;\n",
              "    padding: 0;\n",
              "    width: 32px;\n",
              "  }\n",
              "\n",
              "  .colab-df-quickchart:hover {\n",
              "    background-color: var(--hover-bg-color);\n",
              "    box-shadow: 0 1px 2px rgba(60, 64, 67, 0.3), 0 1px 3px 1px rgba(60, 64, 67, 0.15);\n",
              "    fill: var(--button-hover-fill-color);\n",
              "  }\n",
              "\n",
              "  .colab-df-quickchart-complete:disabled,\n",
              "  .colab-df-quickchart-complete:disabled:hover {\n",
              "    background-color: var(--disabled-bg-color);\n",
              "    fill: var(--disabled-fill-color);\n",
              "    box-shadow: none;\n",
              "  }\n",
              "\n",
              "  .colab-df-spinner {\n",
              "    border: 2px solid var(--fill-color);\n",
              "    border-color: transparent;\n",
              "    border-bottom-color: var(--fill-color);\n",
              "    animation:\n",
              "      spin 1s steps(1) infinite;\n",
              "  }\n",
              "\n",
              "  @keyframes spin {\n",
              "    0% {\n",
              "      border-color: transparent;\n",
              "      border-bottom-color: var(--fill-color);\n",
              "      border-left-color: var(--fill-color);\n",
              "    }\n",
              "    20% {\n",
              "      border-color: transparent;\n",
              "      border-left-color: var(--fill-color);\n",
              "      border-top-color: var(--fill-color);\n",
              "    }\n",
              "    30% {\n",
              "      border-color: transparent;\n",
              "      border-left-color: var(--fill-color);\n",
              "      border-top-color: var(--fill-color);\n",
              "      border-right-color: var(--fill-color);\n",
              "    }\n",
              "    40% {\n",
              "      border-color: transparent;\n",
              "      border-right-color: var(--fill-color);\n",
              "      border-top-color: var(--fill-color);\n",
              "    }\n",
              "    60% {\n",
              "      border-color: transparent;\n",
              "      border-right-color: var(--fill-color);\n",
              "    }\n",
              "    80% {\n",
              "      border-color: transparent;\n",
              "      border-right-color: var(--fill-color);\n",
              "      border-bottom-color: var(--fill-color);\n",
              "    }\n",
              "    90% {\n",
              "      border-color: transparent;\n",
              "      border-bottom-color: var(--fill-color);\n",
              "    }\n",
              "  }\n",
              "</style>\n",
              "\n",
              "  <script>\n",
              "    async function quickchart(key) {\n",
              "      const quickchartButtonEl =\n",
              "        document.querySelector('#' + key + ' button');\n",
              "      quickchartButtonEl.disabled = true;  // To prevent multiple clicks.\n",
              "      quickchartButtonEl.classList.add('colab-df-spinner');\n",
              "      try {\n",
              "        const charts = await google.colab.kernel.invokeFunction(\n",
              "            'suggestCharts', [key], {});\n",
              "      } catch (error) {\n",
              "        console.error('Error during call to suggestCharts:', error);\n",
              "      }\n",
              "      quickchartButtonEl.classList.remove('colab-df-spinner');\n",
              "      quickchartButtonEl.classList.add('colab-df-quickchart-complete');\n",
              "    }\n",
              "    (() => {\n",
              "      let quickchartButtonEl =\n",
              "        document.querySelector('#df-03306cb7-794d-4b91-a255-fb88ce3863fd button');\n",
              "      quickchartButtonEl.style.display =\n",
              "        google.colab.kernel.accessAllowed ? 'block' : 'none';\n",
              "    })();\n",
              "  </script>\n",
              "</div>\n",
              "    </div>\n",
              "  </div>\n"
            ],
            "application/vnd.google.colaboratory.intrinsic+json": {
              "type": "dataframe",
              "repr_error": "unhashable type: 'numpy.ndarray'"
            }
          },
          "metadata": {},
          "execution_count": 34
        }
      ],
      "source": [
        "pd.DataFrame(zip(X2.columns, np.transpose(model2.coef_)))"
      ]
    },
    {
      "cell_type": "code",
      "execution_count": 35,
      "id": "94fc51d8",
      "metadata": {
        "colab": {
          "base_uri": "https://localhost:8080/"
        },
        "id": "94fc51d8",
        "outputId": "b4c5c553-df43-483c-b7f3-26aab35fbb2b"
      },
      "outputs": [
        {
          "output_type": "stream",
          "name": "stdout",
          "text": [
            "[[0.78756201 0.21243799]\n",
            " [0.57502246 0.42497754]\n",
            " [0.77406352 0.22593648]\n",
            " [0.81550521 0.18449479]\n",
            " [0.59273028 0.40726972]\n",
            " [0.67779082 0.32220918]\n",
            " [0.71494099 0.28505901]\n",
            " [0.62849827 0.37150173]\n",
            " [0.52232362 0.47767638]\n",
            " [0.6403894  0.3596106 ]\n",
            " [0.59268003 0.40731997]\n",
            " [0.54048631 0.45951369]\n",
            " [0.66382757 0.33617243]\n",
            " [0.6796521  0.3203479 ]\n",
            " [0.43532946 0.56467054]\n",
            " [0.70146938 0.29853062]\n",
            " [0.64675959 0.35324041]\n",
            " [0.65662401 0.34337599]\n",
            " [0.68105227 0.31894773]\n",
            " [0.62932001 0.37067999]\n",
            " [0.6926081  0.3073919 ]\n",
            " [0.68292041 0.31707959]\n",
            " [0.57772477 0.42227523]\n",
            " [0.628682   0.371318  ]\n",
            " [0.67892588 0.32107412]\n",
            " [0.73775889 0.26224111]\n",
            " [0.42766378 0.57233622]\n",
            " [0.61050947 0.38949053]\n",
            " [0.58382936 0.41617064]\n",
            " [0.67025536 0.32974464]\n",
            " [0.45418656 0.54581344]\n",
            " [0.52317584 0.47682416]\n",
            " [0.67376397 0.32623603]\n",
            " [0.61447115 0.38552885]\n",
            " [0.66620972 0.33379028]\n",
            " [0.50268077 0.49731923]\n",
            " [0.63217357 0.36782643]\n",
            " [0.4306466  0.5693534 ]\n",
            " [0.65748825 0.34251175]\n",
            " [0.44432293 0.55567707]\n",
            " [0.61493994 0.38506006]\n",
            " [0.41547024 0.58452976]\n",
            " [0.48168363 0.51831637]\n",
            " [0.68095349 0.31904651]\n",
            " [0.45426802 0.54573198]\n",
            " [0.79087739 0.20912261]\n",
            " [0.33392877 0.66607123]\n",
            " [0.5619123  0.4380877 ]\n",
            " [0.51006186 0.48993814]\n",
            " [0.6561129  0.3438871 ]\n",
            " [0.50733707 0.49266293]\n",
            " [0.65281603 0.34718397]\n",
            " [0.53384403 0.46615597]\n",
            " [0.77761097 0.22238903]\n",
            " [0.61592999 0.38407001]\n",
            " [0.66728931 0.33271069]\n",
            " [0.56475389 0.43524611]\n",
            " [0.53005827 0.46994173]\n",
            " [0.55421155 0.44578845]\n",
            " [0.69136308 0.30863692]\n",
            " [0.60863438 0.39136562]\n",
            " [0.4562436  0.5437564 ]\n",
            " [0.55707151 0.44292849]\n",
            " [0.56615137 0.43384863]\n",
            " [0.50633281 0.49366719]\n",
            " [0.51932209 0.48067791]\n",
            " [0.4846131  0.5153869 ]\n",
            " [0.63310692 0.36689308]\n",
            " [0.55568672 0.44431328]\n",
            " [0.52645093 0.47354907]\n",
            " [0.6511621  0.3488379 ]\n",
            " [0.4741295  0.5258705 ]\n",
            " [0.68259314 0.31740686]\n",
            " [0.41435896 0.58564104]\n",
            " [0.59527892 0.40472108]\n",
            " [0.57830939 0.42169061]\n",
            " [0.67067061 0.32932939]\n",
            " [0.59772195 0.40227805]\n",
            " [0.71322355 0.28677645]\n",
            " [0.72427602 0.27572398]\n",
            " [0.8047085  0.1952915 ]\n",
            " [0.52631174 0.47368826]\n",
            " [0.7544286  0.2455714 ]\n",
            " [0.72333077 0.27666923]\n",
            " [0.71929794 0.28070206]\n",
            " [0.71757282 0.28242718]\n",
            " [0.66687642 0.33312358]\n",
            " [0.72495043 0.27504957]\n",
            " [0.89684979 0.10315021]\n",
            " [0.53106635 0.46893365]\n",
            " [0.78018425 0.21981575]\n",
            " [0.66144688 0.33855312]\n",
            " [0.64080225 0.35919775]\n",
            " [0.62147597 0.37852403]\n",
            " [0.71296978 0.28703022]\n",
            " [0.63896605 0.36103395]\n",
            " [0.62229714 0.37770286]\n",
            " [0.63119055 0.36880945]\n",
            " [0.70041584 0.29958416]\n",
            " [0.61962215 0.38037785]\n",
            " [0.45245225 0.54754775]\n",
            " [0.8227656  0.1772344 ]\n",
            " [0.54569085 0.45430915]\n",
            " [0.78489517 0.21510483]\n",
            " [0.65323461 0.34676539]\n",
            " [0.72963713 0.27036287]\n",
            " [0.75765635 0.24234365]\n",
            " [0.81921647 0.18078353]\n",
            " [0.70887015 0.29112985]\n",
            " [0.79310659 0.20689341]\n",
            " [0.75309276 0.24690724]\n",
            " [0.73305446 0.26694554]\n",
            " [0.72969326 0.27030674]\n",
            " [0.79537047 0.20462953]\n",
            " [0.61279684 0.38720316]\n",
            " [0.77801097 0.22198903]\n",
            " [0.66063074 0.33936926]\n",
            " [0.65996237 0.34003763]\n",
            " [0.60899062 0.39100938]\n",
            " [0.67754146 0.32245854]]\n"
          ]
        }
      ],
      "source": [
        "import warnings\n",
        "warnings.filterwarnings(\"ignore\", category=UserWarning)\n",
        "\n",
        "probability = model.predict_proba(X_test)\n",
        "print(probability)"
      ]
    },
    {
      "cell_type": "code",
      "execution_count": 36,
      "id": "406a8f47",
      "metadata": {
        "colab": {
          "base_uri": "https://localhost:8080/"
        },
        "id": "406a8f47",
        "outputId": "15c33d3a-b15c-4fdf-c365-6f7962a4b13e"
      },
      "outputs": [
        {
          "output_type": "stream",
          "name": "stdout",
          "text": [
            "[[0.54187953 0.45812047]\n",
            " [0.45675386 0.54324614]\n",
            " [0.51684126 0.48315874]\n",
            " [0.45445693 0.54554307]\n",
            " [0.3864873  0.6135127 ]\n",
            " [0.50405936 0.49594064]\n",
            " [0.50314964 0.49685036]\n",
            " [0.48858302 0.51141698]\n",
            " [0.4622414  0.5377586 ]\n",
            " [0.51604906 0.48395094]\n",
            " [0.49116041 0.50883959]\n",
            " [0.48367042 0.51632958]\n",
            " [0.51258965 0.48741035]\n",
            " [0.47029046 0.52970954]\n",
            " [0.44343676 0.55656324]\n",
            " [0.5387585  0.4612415 ]\n",
            " [0.54698035 0.45301965]\n",
            " [0.54240051 0.45759949]\n",
            " [0.57454425 0.42545575]\n",
            " [0.54204925 0.45795075]\n",
            " [0.58844252 0.41155748]\n",
            " [0.52452475 0.47547525]\n",
            " [0.51023004 0.48976996]\n",
            " [0.5265902  0.4734098 ]\n",
            " [0.56566829 0.43433171]\n",
            " [0.53153645 0.46846355]\n",
            " [0.48219048 0.51780952]\n",
            " [0.57895187 0.42104813]\n",
            " [0.53703649 0.46296351]\n",
            " [0.54544663 0.45455337]\n",
            " [0.52673103 0.47326897]\n",
            " [0.56599088 0.43400912]\n",
            " [0.59135853 0.40864147]\n",
            " [0.58762649 0.41237351]\n",
            " [0.5395233  0.4604767 ]\n",
            " [0.48552847 0.51447153]\n",
            " [0.5432826  0.4567174 ]\n",
            " [0.49536451 0.50463549]\n",
            " [0.56254341 0.43745659]\n",
            " [0.50468362 0.49531638]\n",
            " [0.53674003 0.46325997]\n",
            " [0.53866657 0.46133343]\n",
            " [0.57708908 0.42291092]\n",
            " [0.58714375 0.41285625]\n",
            " [0.4629368  0.5370632 ]\n",
            " [0.46250199 0.53749801]\n",
            " [0.36412813 0.63587187]\n",
            " [0.44713941 0.55286059]\n",
            " [0.46309781 0.53690219]\n",
            " [0.52438877 0.47561123]\n",
            " [0.52659747 0.47340253]\n",
            " [0.54137002 0.45862998]\n",
            " [0.52162731 0.47837269]\n",
            " [0.57678839 0.42321161]\n",
            " [0.52064774 0.47935226]\n",
            " [0.51901829 0.48098171]\n",
            " [0.50395167 0.49604833]\n",
            " [0.50514936 0.49485064]\n",
            " [0.51651949 0.48348051]\n",
            " [0.50745408 0.49254592]\n",
            " [0.4813272  0.5186728 ]\n",
            " [0.47585885 0.52414115]\n",
            " [0.51723541 0.48276459]\n",
            " [0.5076559  0.4923441 ]\n",
            " [0.5132499  0.4867501 ]\n",
            " [0.5062069  0.4937931 ]\n",
            " [0.52152665 0.47847335]\n",
            " [0.59585577 0.40414423]\n",
            " [0.541284   0.458716  ]\n",
            " [0.57105896 0.42894104]\n",
            " [0.56900279 0.43099721]\n",
            " [0.50890254 0.49109746]\n",
            " [0.54727933 0.45272067]\n",
            " [0.45879098 0.54120902]\n",
            " [0.52087594 0.47912406]\n",
            " [0.48543385 0.51456615]\n",
            " [0.5174483  0.4825517 ]\n",
            " [0.51026502 0.48973498]\n",
            " [0.53203268 0.46796732]\n",
            " [0.5212668  0.4787332 ]\n",
            " [0.53549967 0.46450033]\n",
            " [0.48445711 0.51554289]\n",
            " [0.58899021 0.41100979]\n",
            " [0.60137351 0.39862649]\n",
            " [0.53174176 0.46825824]\n",
            " [0.56454358 0.43545642]\n",
            " [0.53852824 0.46147176]\n",
            " [0.55155388 0.44844612]\n",
            " [0.56321029 0.43678971]\n",
            " [0.4341934  0.5658066 ]\n",
            " [0.51983034 0.48016966]\n",
            " [0.47477714 0.52522286]\n",
            " [0.50333726 0.49666274]\n",
            " [0.53751264 0.46248736]\n",
            " [0.54212182 0.45787818]\n",
            " [0.52131429 0.47868571]\n",
            " [0.52179428 0.47820572]\n",
            " [0.51860791 0.48139209]\n",
            " [0.49898672 0.50101328]\n",
            " [0.46994427 0.53005573]\n",
            " [0.49285322 0.50714678]\n",
            " [0.64721818 0.35278182]\n",
            " [0.53081075 0.46918925]\n",
            " [0.58456893 0.41543107]\n",
            " [0.55489611 0.44510389]\n",
            " [0.5813707  0.4186293 ]\n",
            " [0.59652252 0.40347748]\n",
            " [0.5928525  0.4071475 ]\n",
            " [0.54299899 0.45700101]\n",
            " [0.57126167 0.42873833]\n",
            " [0.54094826 0.45905174]\n",
            " [0.5015638  0.4984362 ]\n",
            " [0.50671799 0.49328201]\n",
            " [0.51251333 0.48748667]\n",
            " [0.45670235 0.54329765]\n",
            " [0.54864068 0.45135932]\n",
            " [0.54145299 0.45854701]\n",
            " [0.53888863 0.46111137]\n",
            " [0.53752494 0.46247506]\n",
            " [0.56517286 0.43482714]]\n"
          ]
        }
      ],
      "source": [
        "probability2 = model2.predict_proba(X_test_scaled2)\n",
        "print(probability2)"
      ]
    },
    {
      "cell_type": "code",
      "execution_count": 37,
      "id": "5bbaa4c4",
      "metadata": {
        "scrolled": true,
        "colab": {
          "base_uri": "https://localhost:8080/"
        },
        "id": "5bbaa4c4",
        "outputId": "40f1c868-9dda-4f1c-8b56-4f887e4a0b5f"
      },
      "outputs": [
        {
          "output_type": "stream",
          "name": "stdout",
          "text": [
            "[[54  9]\n",
            " [52  5]]\n"
          ]
        }
      ],
      "source": [
        "predicted = model.predict(X_test)\n",
        "print(metrics.confusion_matrix(y_test, predicted))"
      ]
    },
    {
      "cell_type": "code",
      "execution_count": 38,
      "id": "4b2100b7",
      "metadata": {
        "colab": {
          "base_uri": "https://localhost:8080/"
        },
        "id": "4b2100b7",
        "outputId": "fe929d76-4cd9-49a0-c05a-95af92ba9e77"
      },
      "outputs": [
        {
          "output_type": "stream",
          "name": "stdout",
          "text": [
            "[[46 17]\n",
            " [46 11]]\n"
          ]
        }
      ],
      "source": [
        "predicted2 = model2.predict(X_test_scaled2)\n",
        "conf_matrix2 = metrics.confusion_matrix(y_test2, predicted2)\n",
        "print(conf_matrix2)\n"
      ]
    },
    {
      "cell_type": "code",
      "execution_count": 39,
      "id": "6727900e",
      "metadata": {
        "colab": {
          "base_uri": "https://localhost:8080/"
        },
        "id": "6727900e",
        "outputId": "cbf9d297-fe83-42e2-adc5-50e02f7c2482"
      },
      "outputs": [
        {
          "output_type": "stream",
          "name": "stdout",
          "text": [
            "              precision    recall  f1-score   support\n",
            "\n",
            "          -1       0.51      0.86      0.64        63\n",
            "           1       0.36      0.09      0.14        57\n",
            "\n",
            "    accuracy                           0.49       120\n",
            "   macro avg       0.43      0.47      0.39       120\n",
            "weighted avg       0.44      0.49      0.40       120\n",
            "\n"
          ]
        }
      ],
      "source": [
        "print(metrics.classification_report(y_test, predicted))"
      ]
    },
    {
      "cell_type": "code",
      "execution_count": 40,
      "id": "df9bf5ca",
      "metadata": {
        "colab": {
          "base_uri": "https://localhost:8080/"
        },
        "id": "df9bf5ca",
        "outputId": "5e2df22a-af68-45bf-cc1f-329b8ae35fd5"
      },
      "outputs": [
        {
          "output_type": "stream",
          "name": "stdout",
          "text": [
            "              precision    recall  f1-score   support\n",
            "\n",
            "          -1       0.50      0.73      0.59        63\n",
            "           1       0.39      0.19      0.26        57\n",
            "\n",
            "    accuracy                           0.48       120\n",
            "   macro avg       0.45      0.46      0.43       120\n",
            "weighted avg       0.45      0.47      0.43       120\n",
            "\n"
          ]
        }
      ],
      "source": [
        "print(metrics.classification_report(y_test2, predicted2))"
      ]
    },
    {
      "cell_type": "code",
      "execution_count": 41,
      "id": "804bb1d3",
      "metadata": {
        "scrolled": true,
        "colab": {
          "base_uri": "https://localhost:8080/"
        },
        "id": "804bb1d3",
        "outputId": "606507f1-ed76-479a-f8d2-6010c4d2b24a"
      },
      "outputs": [
        {
          "output_type": "stream",
          "name": "stdout",
          "text": [
            "0.49166666666666664\n"
          ]
        }
      ],
      "source": [
        "print(model.score(X_test,y_test))"
      ]
    },
    {
      "cell_type": "code",
      "execution_count": 42,
      "id": "bd1dc4bc",
      "metadata": {
        "colab": {
          "base_uri": "https://localhost:8080/"
        },
        "id": "bd1dc4bc",
        "outputId": "5f21b077-25e2-45a6-df5e-fc6fa9b13073"
      },
      "outputs": [
        {
          "output_type": "stream",
          "name": "stdout",
          "text": [
            "0.475\n"
          ]
        }
      ],
      "source": [
        "print(model2.score(X_test_scaled2, y_test2))"
      ]
    },
    {
      "cell_type": "code",
      "execution_count": 43,
      "id": "3f72ec1f",
      "metadata": {
        "colab": {
          "base_uri": "https://localhost:8080/"
        },
        "id": "3f72ec1f",
        "outputId": "d131d35a-610c-4413-b5a4-cfe204f60c4a"
      },
      "outputs": [
        {
          "output_type": "stream",
          "name": "stdout",
          "text": [
            "[0.51666667 0.4        0.48333333 0.5        0.46666667 0.48333333\n",
            " 0.51666667 0.55932203 0.52542373 0.42372881]\n",
            "0.4875141242937853\n"
          ]
        }
      ],
      "source": [
        "cross_val = cross_val_score(LogisticRegression(), X, y, scoring='accuracy', cv=10)\n",
        "print(cross_val)\n",
        "print(cross_val.mean())"
      ]
    },
    {
      "cell_type": "code",
      "execution_count": 44,
      "id": "2f569392",
      "metadata": {
        "colab": {
          "base_uri": "https://localhost:8080/"
        },
        "id": "2f569392",
        "outputId": "b6057413-bcd5-4dd6-c2da-521f5e8256e6"
      },
      "outputs": [
        {
          "output_type": "stream",
          "name": "stdout",
          "text": [
            "[0.6        0.41666667 0.51666667 0.41666667 0.55       0.56666667\n",
            " 0.48333333 0.57627119 0.57627119 0.45762712]\n",
            "0.5160169491525424\n"
          ]
        }
      ],
      "source": [
        "cross_val2 = cross_val_score(LogisticRegression(), X2, y, scoring='accuracy', cv=10)\n",
        "print(cross_val2)\n",
        "print(cross_val2.mean())\n"
      ]
    },
    {
      "cell_type": "code",
      "execution_count": 46,
      "id": "ce27ae8f",
      "metadata": {
        "colab": {
          "base_uri": "https://localhost:8080/",
          "height": 445
        },
        "id": "ce27ae8f",
        "outputId": "0911e0c9-100f-454f-fee5-f29774229640"
      },
      "outputs": [
        {
          "output_type": "display_data",
          "data": {
            "text/plain": [
              "<Figure size 1000x500 with 1 Axes>"
            ],
            "image/png": "[encoded data removed]"
          },
          "metadata": {}
        }
      ],
      "source": [
        "df['NYSE_returns'] = np.log(df['Close']/df['Close'].shift(1))\n",
        "Cumulative_NYSE_returns = np.cumsum(df[split:]['NYSE_returns'])\n",
        "\n",
        "# ทำนายสัญญาณบน X\n",
        "df['Predicted_Signal'] = model.predict(X)\n",
        "\n",
        "# ทำนายสัญญาณบน X2\n",
        "df['Predicted_Signal_X2'] = model2.predict(X2)\n",
        "\n",
        "\n",
        "# คำนวณผลลัพธ์รายวันของกลยุทธ์\n",
        "df['Strategy_returns'] = df['NYSE_returns'].shift(1) * df['Predicted_Signal']\n",
        "\n",
        "df['Strategy_returns_X2'] = df['NYSE_returns'] * df['Predicted_Signal_X2'].shift(1)\n",
        "\n",
        "Cumulative_Strategy_returns = np.cumsum(df[split:]['Strategy_returns'])\n",
        "Cumulative_Strategy_returns_X2 = np.cumsum(df[split:]['Strategy_returns_X2'])\n",
        "\n",
        "# แสดงผลลัพธ์\n",
        "plt.figure(figsize=(10, 5))\n",
        "plt.plot(Cumulative_Strategy_returns_X2, color='b', label='Strategy + 1 Feture Returns ')\n",
        "plt.plot(Cumulative_Strategy_returns, color='g', label='Strategy Returns')\n",
        "plt.plot(Cumulative_NYSE_returns, color='r', label='NYSE_returns')\n",
        "plt.legend()\n",
        "plt.show()\n"
      ]
    }
  ],
  "metadata": {
    "kernelspec": {
      "display_name": "Python 3 (ipykernel)",
      "language": "python",
      "name": "python3"
    },
    "language_info": {
      "codemirror_mode": {
        "name": "ipython",
        "version": 3
      },
      "file_extension": ".py",
      "mimetype": "text/x-python",
      "name": "python",
      "nbconvert_exporter": "python",
      "pygments_lexer": "ipython3",
      "version": "3.11.7"
    },
    "colab": {
      "provenance": [],
      "include_colab_link": true
    }
  },
  "nbformat": 4,
  "nbformat_minor": 5
}